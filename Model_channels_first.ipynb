{
 "cells": [
  {
   "cell_type": "code",
   "execution_count": 1,
   "metadata": {},
   "outputs": [
    {
     "name": "stderr",
     "output_type": "stream",
     "text": [
      "C:\\Users\\Ravindra Singh\\anaconda3\\lib\\site-packages\\tensorflow\\python\\framework\\dtypes.py:526: FutureWarning: Passing (type, 1) or '1type' as a synonym of type is deprecated; in a future version of numpy, it will be understood as (type, (1,)) / '(1,)type'.\n",
      "  _np_qint8 = np.dtype([(\"qint8\", np.int8, 1)])\n",
      "C:\\Users\\Ravindra Singh\\anaconda3\\lib\\site-packages\\tensorflow\\python\\framework\\dtypes.py:527: FutureWarning: Passing (type, 1) or '1type' as a synonym of type is deprecated; in a future version of numpy, it will be understood as (type, (1,)) / '(1,)type'.\n",
      "  _np_quint8 = np.dtype([(\"quint8\", np.uint8, 1)])\n",
      "C:\\Users\\Ravindra Singh\\anaconda3\\lib\\site-packages\\tensorflow\\python\\framework\\dtypes.py:528: FutureWarning: Passing (type, 1) or '1type' as a synonym of type is deprecated; in a future version of numpy, it will be understood as (type, (1,)) / '(1,)type'.\n",
      "  _np_qint16 = np.dtype([(\"qint16\", np.int16, 1)])\n",
      "C:\\Users\\Ravindra Singh\\anaconda3\\lib\\site-packages\\tensorflow\\python\\framework\\dtypes.py:529: FutureWarning: Passing (type, 1) or '1type' as a synonym of type is deprecated; in a future version of numpy, it will be understood as (type, (1,)) / '(1,)type'.\n",
      "  _np_quint16 = np.dtype([(\"quint16\", np.uint16, 1)])\n",
      "C:\\Users\\Ravindra Singh\\anaconda3\\lib\\site-packages\\tensorflow\\python\\framework\\dtypes.py:530: FutureWarning: Passing (type, 1) or '1type' as a synonym of type is deprecated; in a future version of numpy, it will be understood as (type, (1,)) / '(1,)type'.\n",
      "  _np_qint32 = np.dtype([(\"qint32\", np.int32, 1)])\n",
      "C:\\Users\\Ravindra Singh\\anaconda3\\lib\\site-packages\\tensorflow\\python\\framework\\dtypes.py:535: FutureWarning: Passing (type, 1) or '1type' as a synonym of type is deprecated; in a future version of numpy, it will be understood as (type, (1,)) / '(1,)type'.\n",
      "  np_resource = np.dtype([(\"resource\", np.ubyte, 1)])\n"
     ]
    }
   ],
   "source": [
    "import numpy as np\n",
    "import matplotlib.pyplot as plt\n",
    "import os\n",
    "import seaborn as sns\n",
    "import pandas as pd\n",
    "from PIL import Image\n",
    "import tensorflow as tf"
   ]
  },
  {
   "cell_type": "code",
   "execution_count": 2,
   "metadata": {},
   "outputs": [],
   "source": [
    "train_path = r\"C:\\Users\\Ravindra Singh\\Desktop\\FNF\\train\"\n",
    "valid_path = r\"C:\\Users\\Ravindra Singh\\Desktop\\FNF\\val\"\n",
    "test_path = r\"C:\\Users\\Ravindra Singh\\Desktop\\FNF\\test\""
   ]
  },
  {
   "cell_type": "code",
   "execution_count": 3,
   "metadata": {},
   "outputs": [],
   "source": [
    "def load_images(path):\n",
    "    images = []\n",
    "    label =[]\n",
    "    for i in os.listdir(path):\n",
    "        for j in os.listdir(path + '/' + i):\n",
    "            img_path = path + '/' + i + '/' + j\n",
    "            img = Image.open(img_path).convert('L')\n",
    "            img = img.resize((100, 100))\n",
    "            img = np.array(img)\n",
    "            img = img.reshape((1,100,100))\n",
    "            images.append(img)\n",
    "            if i == 'fire':\n",
    "                label.append(0)\n",
    "            elif i == 'no_fire':\n",
    "                label.append(1)\n",
    "            else:\n",
    "                pass\n",
    "    images = np.array(images)\n",
    "    return(images, label)     "
   ]
  },
  {
   "cell_type": "code",
   "execution_count": 4,
   "metadata": {},
   "outputs": [],
   "source": [
    "train_images, train_label = load_images(train_path)\n",
    "test_images, test_label = load_images(test_path)\n",
    "x_val, y_val = load_images(valid_path)"
   ]
  },
  {
   "cell_type": "code",
   "execution_count": 5,
   "metadata": {},
   "outputs": [
    {
     "data": {
      "text/plain": [
       "0"
      ]
     },
     "execution_count": 5,
     "metadata": {},
     "output_type": "execute_result"
    }
   ],
   "source": [
    "test_label[2]"
   ]
  },
  {
   "cell_type": "code",
   "execution_count": 6,
   "metadata": {},
   "outputs": [
    {
     "name": "stdout",
     "output_type": "stream",
     "text": [
      "(6840, 1, 100, 100)\n",
      "6840\n",
      "(400, 1, 100, 100)\n",
      "400\n",
      "(1040, 1, 100, 100)\n",
      "1040\n"
     ]
    }
   ],
   "source": [
    "print(train_images.shape)\n",
    "print(len(train_label))\n",
    "print(test_images.shape)\n",
    "print(len(test_label))\n",
    "print(x_val.shape)\n",
    "print(len(y_val))"
   ]
  },
  {
   "cell_type": "code",
   "execution_count": 7,
   "metadata": {},
   "outputs": [
    {
     "name": "stdout",
     "output_type": "stream",
     "text": [
      "(6840, 1, 100, 100)\n",
      "(400, 1, 100, 100)\n",
      "(1040, 1, 100, 100)\n"
     ]
    }
   ],
   "source": [
    "train_images = np.reshape(train_images, (-1, 1,100, 100))\n",
    "print(train_images.shape)\n",
    "test_images = np.reshape(test_images, (-1, 1, 100, 100))\n",
    "print(test_images.shape)\n",
    "x_val = np.reshape(x_val, (-1, 1, 100, 100))\n",
    "print(x_val.shape)"
   ]
  },
  {
   "cell_type": "code",
   "execution_count": 8,
   "metadata": {},
   "outputs": [
    {
     "name": "stdout",
     "output_type": "stream",
     "text": [
      "WARNING:tensorflow:From C:\\Users\\Ravindra Singh\\anaconda3\\lib\\site-packages\\tensorflow\\python\\framework\\op_def_library.py:263: colocate_with (from tensorflow.python.framework.ops) is deprecated and will be removed in a future version.\n",
      "Instructions for updating:\n",
      "Colocations handled automatically by placer.\n",
      "WARNING:tensorflow:From C:\\Users\\Ravindra Singh\\anaconda3\\lib\\site-packages\\keras\\backend\\tensorflow_backend.py:3445: calling dropout (from tensorflow.python.ops.nn_ops) with keep_prob is deprecated and will be removed in a future version.\n",
      "Instructions for updating:\n",
      "Please use `rate` instead of `keep_prob`. Rate should be set to `rate = 1 - keep_prob`.\n"
     ]
    },
    {
     "name": "stderr",
     "output_type": "stream",
     "text": [
      "Using TensorFlow backend.\n"
     ]
    },
    {
     "name": "stdout",
     "output_type": "stream",
     "text": [
      "_________________________________________________________________\n",
      "Layer (type)                 Output Shape              Param #   \n",
      "=================================================================\n",
      "conv2d_1 (Conv2D)            (None, 20, 49, 49)        200       \n",
      "_________________________________________________________________\n",
      "dropout_1 (Dropout)          (None, 20, 49, 49)        0         \n",
      "_________________________________________________________________\n",
      "max_pooling2d_1 (MaxPooling2 (None, 20, 24, 24)        0         \n",
      "_________________________________________________________________\n",
      "conv2d_2 (Conv2D)            (None, 40, 11, 11)        7240      \n",
      "_________________________________________________________________\n",
      "dropout_2 (Dropout)          (None, 40, 11, 11)        0         \n",
      "_________________________________________________________________\n",
      "max_pooling2d_2 (MaxPooling2 (None, 40, 5, 5)          0         \n",
      "_________________________________________________________________\n",
      "conv2d_3 (Conv2D)            (None, 40, 2, 2)          14440     \n",
      "_________________________________________________________________\n",
      "dropout_3 (Dropout)          (None, 40, 2, 2)          0         \n",
      "_________________________________________________________________\n",
      "max_pooling2d_3 (MaxPooling2 (None, 40, 1, 1)          0         \n",
      "_________________________________________________________________\n",
      "flatten_1 (Flatten)          (None, 40)                0         \n",
      "_________________________________________________________________\n",
      "dense_1 (Dense)              (None, 40)                1640      \n",
      "_________________________________________________________________\n",
      "dropout_4 (Dropout)          (None, 40)                0         \n",
      "_________________________________________________________________\n",
      "dense_2 (Dense)              (None, 1)                 41        \n",
      "=================================================================\n",
      "Total params: 23,561\n",
      "Trainable params: 23,561\n",
      "Non-trainable params: 0\n",
      "_________________________________________________________________\n"
     ]
    }
   ],
   "source": [
    "from keras import layers, models\n",
    "model = models.Sequential()\n",
    "model.add(layers.Conv2D(20, (3,3), strides=2, activation='relu', input_shape=(1, 100, 100), data_format='channels_first'))\n",
    "model.add(layers.Dropout(0.2))\n",
    "model.add(layers.MaxPooling2D((2, 2), strides= 2, data_format='channels_first'))\n",
    "\n",
    "model.add(layers.Conv2D(40, (3, 3), strides=2, activation='relu', data_format='channels_first'))\n",
    "model.add(layers.Dropout(0.2))\n",
    "model.add(layers.MaxPooling2D((2, 2), strides= 2, data_format='channels_first'))\n",
    "model.add(layers.Conv2D(40, (3, 3), strides=2, activation='relu', data_format='channels_first'))\n",
    "model.add(layers.Dropout(0.2))\n",
    "model.add(layers.MaxPooling2D((2, 2), strides= 2, data_format='channels_first'))\n",
    "model.add(layers.Flatten())\n",
    "model.add(layers.Dense(40, activation='relu'))\n",
    "model.add(layers.Dropout(0.2))\n",
    "model.add(layers.Dense(1, activation='sigmoid'))\n",
    "model.summary()"
   ]
  },
  {
   "cell_type": "code",
   "execution_count": 9,
   "metadata": {},
   "outputs": [],
   "source": [
    "model.compile(optimizer='adam', loss = 'binary_crossentropy', metrics = ['acc'])"
   ]
  },
  {
   "cell_type": "code",
   "execution_count": 14,
   "metadata": {},
   "outputs": [
    {
     "name": "stdout",
     "output_type": "stream",
     "text": [
      "Train on 6840 samples, validate on 1040 samples\n",
      "Epoch 1/10\n",
      "6840/6840 [==============================] - 32s 5ms/step - loss: 0.2806 - acc: 0.8776 - val_loss: 0.3418 - val_acc: 0.8683\n",
      "Epoch 2/10\n",
      "6840/6840 [==============================] - 33s 5ms/step - loss: 0.2711 - acc: 0.8845 - val_loss: 0.3345 - val_acc: 0.8779\n",
      "Epoch 3/10\n",
      "6840/6840 [==============================] - 33s 5ms/step - loss: 0.2661 - acc: 0.8877 - val_loss: 0.3896 - val_acc: 0.8346\n",
      "Epoch 4/10\n",
      "6840/6840 [==============================] - 34s 5ms/step - loss: 0.2628 - acc: 0.8883 - val_loss: 0.3440 - val_acc: 0.8615\n",
      "Epoch 5/10\n",
      "6840/6840 [==============================] - 35s 5ms/step - loss: 0.2523 - acc: 0.8937 - val_loss: 0.3270 - val_acc: 0.8750\n",
      "Epoch 6/10\n",
      "6840/6840 [==============================] - 34s 5ms/step - loss: 0.2659 - acc: 0.8849 - val_loss: 0.3334 - val_acc: 0.8798\n",
      "Epoch 7/10\n",
      "6840/6840 [==============================] - 34s 5ms/step - loss: 0.2490 - acc: 0.8985 - val_loss: 0.3353 - val_acc: 0.8644\n",
      "Epoch 8/10\n",
      "6840/6840 [==============================] - 35s 5ms/step - loss: 0.2425 - acc: 0.8991 - val_loss: 0.3108 - val_acc: 0.8760\n",
      "Epoch 9/10\n",
      "6840/6840 [==============================] - 39s 6ms/step - loss: 0.2450 - acc: 0.8962 - val_loss: 0.3421 - val_acc: 0.8740\n",
      "Epoch 10/10\n",
      "6840/6840 [==============================] - 43s 6ms/step - loss: 0.2431 - acc: 0.8968 - val_loss: 0.3194 - val_acc: 0.8856\n"
     ]
    }
   ],
   "source": [
    "history = model.fit(train_images, train_label, epochs=10, batch_size = 64,\n",
    "                    validation_data=(x_val, y_val))"
   ]
  },
  {
   "cell_type": "code",
   "execution_count": 11,
   "metadata": {},
   "outputs": [
    {
     "data": {
      "image/png": "[encoded data removed]",
      "text/plain": [
       "<Figure size 432x288 with 1 Axes>"
      ]
     },
     "metadata": {
      "needs_background": "light"
     },
     "output_type": "display_data"
    }
   ],
   "source": [
    "plt.plot(history.history['acc'])\n",
    "plt.plot(history.history['val_acc'])\n",
    "plt.title('model acc')\n",
    "plt.ylabel('accuracy')\n",
    "plt.xlabel('epoch')\n",
    "plt.legend(['train', 'val'], loc='upper left')\n",
    "plt.show()"
   ]
  },
  {
   "cell_type": "code",
   "execution_count": 23,
   "metadata": {},
   "outputs": [
    {
     "name": "stdout",
     "output_type": "stream",
     "text": [
      "400/400 [==============================] - 1s 2ms/step\n",
      "Test Accuracy 0.9325\n"
     ]
    }
   ],
   "source": [
    "test_loss , test_acc = model.evaluate(test_images, test_label)\n",
    "print(\"Test Accuracy\", test_acc)"
   ]
  },
  {
   "cell_type": "code",
   "execution_count": 24,
   "metadata": {},
   "outputs": [
    {
     "name": "stdout",
     "output_type": "stream",
     "text": [
      "\r",
      "1/1 [==============================] - 0s 453ms/step\n"
     ]
    },
    {
     "data": {
      "text/plain": [
       "array([[3.30259740e-01],\n",
       "       [3.95119667e-01],\n",
       "       [3.61669153e-01],\n",
       "       [3.41906965e-01],\n",
       "       [3.69367003e-01],\n",
       "       [2.21614122e-01],\n",
       "       [4.76768315e-02],\n",
       "       [2.05961376e-01],\n",
       "       [1.17814243e-02],\n",
       "       [2.91269839e-01],\n",
       "       [1.65393054e-02],\n",
       "       [4.52828199e-01],\n",
       "       [6.35312796e-01],\n",
       "       [1.92267805e-01],\n",
       "       [8.50588679e-02],\n",
       "       [1.93362802e-01],\n",
       "       [3.93002450e-01],\n",
       "       [4.22360450e-01],\n",
       "       [9.49283540e-02],\n",
       "       [4.49522614e-01],\n",
       "       [5.96832156e-01],\n",
       "       [9.19997692e-05],\n",
       "       [0.00000000e+00],\n",
       "       [0.00000000e+00],\n",
       "       [5.02049387e-01],\n",
       "       [3.99428606e-03],\n",
       "       [0.00000000e+00],\n",
       "       [5.33979237e-02],\n",
       "       [3.43769789e-03],\n",
       "       [5.13264298e-01],\n",
       "       [3.32748860e-01],\n",
       "       [4.09522355e-02],\n",
       "       [6.40913546e-01],\n",
       "       [7.02410579e-01],\n",
       "       [4.04479146e-01],\n",
       "       [2.08616257e-07],\n",
       "       [1.34170055e-03],\n",
       "       [4.51538265e-02],\n",
       "       [1.39041245e-02],\n",
       "       [5.63439727e-02],\n",
       "       [2.83320367e-01],\n",
       "       [7.48182833e-02],\n",
       "       [1.97079539e-01],\n",
       "       [2.17537582e-02],\n",
       "       [2.00367302e-01],\n",
       "       [1.46084428e-02],\n",
       "       [2.45226324e-02],\n",
       "       [2.81547368e-01],\n",
       "       [4.25739288e-02],\n",
       "       [5.52821159e-03],\n",
       "       [3.58987153e-02],\n",
       "       [4.94790971e-02],\n",
       "       [3.76210213e-02],\n",
       "       [5.32373786e-02],\n",
       "       [5.93978465e-02],\n",
       "       [4.71603572e-02],\n",
       "       [3.43799591e-02],\n",
       "       [4.59539294e-02],\n",
       "       [4.17722762e-02],\n",
       "       [4.32044268e-02],\n",
       "       [2.52424061e-01],\n",
       "       [1.76095903e-01],\n",
       "       [1.46239102e-01],\n",
       "       [2.26212531e-01],\n",
       "       [2.95994788e-01],\n",
       "       [1.49961919e-01],\n",
       "       [1.15312874e-01],\n",
       "       [1.22488081e-01],\n",
       "       [2.63479501e-01],\n",
       "       [3.23690832e-01],\n",
       "       [2.55994380e-01],\n",
       "       [9.85214710e-02],\n",
       "       [2.22696424e-01],\n",
       "       [2.67817855e-01],\n",
       "       [4.01006341e-01],\n",
       "       [8.06054473e-03],\n",
       "       [7.98502564e-03],\n",
       "       [3.84771824e-03],\n",
       "       [8.86976719e-04],\n",
       "       [4.43115830e-03],\n",
       "       [8.78274441e-05],\n",
       "       [7.89970160e-03],\n",
       "       [3.11729968e-01],\n",
       "       [2.49088168e-01],\n",
       "       [2.98023224e-08],\n",
       "       [3.26651335e-01],\n",
       "       [1.57356262e-05],\n",
       "       [5.30481339e-06],\n",
       "       [5.91218472e-04],\n",
       "       [8.28933120e-02],\n",
       "       [2.28971243e-03],\n",
       "       [2.39997417e-01],\n",
       "       [2.58777857e-01],\n",
       "       [3.91109705e-01],\n",
       "       [2.59922445e-02],\n",
       "       [2.82908916e-01],\n",
       "       [9.25147533e-03],\n",
       "       [3.64478528e-01],\n",
       "       [8.09766650e-02],\n",
       "       [2.89082527e-06],\n",
       "       [4.54677343e-02],\n",
       "       [2.29592621e-02],\n",
       "       [8.94069672e-08],\n",
       "       [1.03330314e-02],\n",
       "       [5.95188618e-01],\n",
       "       [6.23771548e-02],\n",
       "       [5.24997711e-04],\n",
       "       [2.16019750e-02],\n",
       "       [4.49565053e-01],\n",
       "       [5.36636293e-01],\n",
       "       [4.59196091e-01],\n",
       "       [9.57999587e-01],\n",
       "       [3.78527999e-01],\n",
       "       [6.00854754e-02],\n",
       "       [2.38418579e-06],\n",
       "       [8.89122486e-04],\n",
       "       [1.27538234e-01],\n",
       "       [3.22251022e-01],\n",
       "       [5.54389358e-02],\n",
       "       [1.83626413e-02],\n",
       "       [8.29100609e-05],\n",
       "       [1.95212424e-01],\n",
       "       [1.13368034e-04],\n",
       "       [4.43892449e-01],\n",
       "       [4.57368940e-01],\n",
       "       [4.54677343e-02],\n",
       "       [3.50743532e-03],\n",
       "       [4.19846773e-02],\n",
       "       [1.97142065e-02],\n",
       "       [2.93329358e-03],\n",
       "       [3.87042463e-02],\n",
       "       [3.27891707e-02],\n",
       "       [3.37631494e-01],\n",
       "       [4.31100756e-01],\n",
       "       [6.77362084e-03],\n",
       "       [1.51077688e-01],\n",
       "       [4.82019782e-03],\n",
       "       [1.73328817e-02],\n",
       "       [5.20876050e-03],\n",
       "       [5.76743484e-03],\n",
       "       [7.11518526e-03],\n",
       "       [1.99970573e-01],\n",
       "       [5.64315915e-02],\n",
       "       [1.96350217e-02],\n",
       "       [2.00231433e-01],\n",
       "       [1.95958167e-01],\n",
       "       [2.39403486e-01],\n",
       "       [0.00000000e+00],\n",
       "       [5.84680378e-01],\n",
       "       [7.77840614e-06],\n",
       "       [2.62302458e-02],\n",
       "       [4.09483910e-04],\n",
       "       [1.83716416e-03],\n",
       "       [8.42763186e-02],\n",
       "       [1.64703369e-01],\n",
       "       [1.46117806e-03],\n",
       "       [1.55339837e-02],\n",
       "       [3.90410423e-06],\n",
       "       [7.17374086e-02],\n",
       "       [3.03176761e-01],\n",
       "       [4.64006662e-02],\n",
       "       [4.33772832e-01],\n",
       "       [2.31822997e-01],\n",
       "       [7.75754452e-05],\n",
       "       [8.01086426e-05],\n",
       "       [1.17288023e-01],\n",
       "       [2.25669146e-03],\n",
       "       [1.77220762e-01],\n",
       "       [7.84225762e-02],\n",
       "       [5.50938785e-01],\n",
       "       [4.69395638e-01],\n",
       "       [4.12642956e-02],\n",
       "       [4.34726477e-04],\n",
       "       [1.21730864e-02],\n",
       "       [9.40128267e-02],\n",
       "       [4.50462103e-04],\n",
       "       [3.88004929e-01],\n",
       "       [6.00972772e-03],\n",
       "       [1.95708632e-01],\n",
       "       [1.41745806e-03],\n",
       "       [6.70827210e-01],\n",
       "       [5.68038642e-01],\n",
       "       [2.61477828e-02],\n",
       "       [5.30516326e-01],\n",
       "       [1.18603379e-01],\n",
       "       [3.19008946e-01],\n",
       "       [3.65909934e-03],\n",
       "       [2.52357095e-01],\n",
       "       [2.30936140e-01],\n",
       "       [1.09158456e-02],\n",
       "       [2.85634935e-01],\n",
       "       [6.70269489e-01],\n",
       "       [3.51118624e-01],\n",
       "       [0.00000000e+00],\n",
       "       [4.72229719e-03],\n",
       "       [6.10079169e-01],\n",
       "       [0.00000000e+00],\n",
       "       [4.55548763e-02],\n",
       "       [2.06852257e-02],\n",
       "       [5.96046448e-08],\n",
       "       [9.77316499e-01],\n",
       "       [9.47863460e-01],\n",
       "       [5.64280927e-01],\n",
       "       [7.16954887e-01],\n",
       "       [8.54366899e-01],\n",
       "       [6.56791747e-01],\n",
       "       [5.85249126e-01],\n",
       "       [5.40147543e-01],\n",
       "       [9.27842081e-01],\n",
       "       [7.88779378e-01],\n",
       "       [5.26495576e-01],\n",
       "       [4.26788151e-01],\n",
       "       [8.97214711e-01],\n",
       "       [9.42706704e-01],\n",
       "       [9.61038888e-01],\n",
       "       [9.89165425e-01],\n",
       "       [9.93634403e-01],\n",
       "       [5.99718750e-01],\n",
       "       [9.10945535e-01],\n",
       "       [9.02868867e-01],\n",
       "       [9.23147500e-01],\n",
       "       [9.70718741e-01],\n",
       "       [6.98072553e-01],\n",
       "       [7.63105273e-01],\n",
       "       [7.40680099e-01],\n",
       "       [8.65470052e-01],\n",
       "       [7.00149894e-01],\n",
       "       [9.94491935e-01],\n",
       "       [7.63571382e-01],\n",
       "       [7.15571105e-01],\n",
       "       [7.21695602e-01],\n",
       "       [7.87951231e-01],\n",
       "       [8.71760786e-01],\n",
       "       [6.74096048e-01],\n",
       "       [8.30910444e-01],\n",
       "       [8.14444482e-01],\n",
       "       [8.95413697e-01],\n",
       "       [6.82431817e-01],\n",
       "       [7.20659673e-01],\n",
       "       [8.05069923e-01],\n",
       "       [9.30794358e-01],\n",
       "       [8.84521365e-01],\n",
       "       [9.19547439e-01],\n",
       "       [9.04776394e-01],\n",
       "       [8.40623260e-01],\n",
       "       [6.74356103e-01],\n",
       "       [7.56069899e-01],\n",
       "       [5.82837701e-01],\n",
       "       [8.20234179e-01],\n",
       "       [9.62826967e-01],\n",
       "       [9.86656249e-01],\n",
       "       [8.88482392e-01],\n",
       "       [5.69226801e-01],\n",
       "       [8.07612836e-01],\n",
       "       [8.82993519e-01],\n",
       "       [9.00677323e-01],\n",
       "       [7.88721025e-01],\n",
       "       [6.69773638e-01],\n",
       "       [9.85665560e-01],\n",
       "       [6.19175136e-01],\n",
       "       [8.44332337e-01],\n",
       "       [7.57873654e-01],\n",
       "       [6.62155390e-01],\n",
       "       [9.59245861e-01],\n",
       "       [5.63149571e-01],\n",
       "       [4.72755075e-01],\n",
       "       [7.50495911e-01],\n",
       "       [7.50613987e-01],\n",
       "       [7.85083652e-01],\n",
       "       [8.70751202e-01],\n",
       "       [8.85224581e-01],\n",
       "       [7.79609740e-01],\n",
       "       [9.09348249e-01],\n",
       "       [9.74772274e-01],\n",
       "       [5.75499654e-01],\n",
       "       [9.89567399e-01],\n",
       "       [5.47766805e-01],\n",
       "       [9.20839667e-01],\n",
       "       [6.30357027e-01],\n",
       "       [8.29809844e-01],\n",
       "       [7.72317350e-01],\n",
       "       [6.03909016e-01],\n",
       "       [8.58724713e-01],\n",
       "       [7.72678018e-01],\n",
       "       [7.08711565e-01],\n",
       "       [9.99692202e-01],\n",
       "       [6.45846069e-01],\n",
       "       [7.68583894e-01],\n",
       "       [6.99230492e-01],\n",
       "       [6.38907254e-01],\n",
       "       [7.56889343e-01],\n",
       "       [9.80172276e-01],\n",
       "       [8.26849699e-01],\n",
       "       [9.43904042e-01],\n",
       "       [7.50542521e-01],\n",
       "       [9.55936253e-01],\n",
       "       [9.93114829e-01],\n",
       "       [7.91707993e-01],\n",
       "       [9.36407149e-01],\n",
       "       [9.53437567e-01],\n",
       "       [8.73531461e-01],\n",
       "       [8.49922657e-01],\n",
       "       [8.99845898e-01],\n",
       "       [8.82174015e-01],\n",
       "       [5.97020090e-01],\n",
       "       [7.65727282e-01],\n",
       "       [9.81251717e-01],\n",
       "       [2.92809725e-01],\n",
       "       [7.51675129e-01],\n",
       "       [1.80213094e-01],\n",
       "       [7.14021325e-01],\n",
       "       [9.96733665e-01],\n",
       "       [6.82444692e-01],\n",
       "       [7.77617335e-01],\n",
       "       [9.37746167e-01],\n",
       "       [9.33771312e-01],\n",
       "       [8.40250909e-01],\n",
       "       [5.59242904e-01],\n",
       "       [5.25930464e-01],\n",
       "       [5.10829747e-01],\n",
       "       [6.33909345e-01],\n",
       "       [8.44684899e-01],\n",
       "       [7.79339135e-01],\n",
       "       [7.20164657e-01],\n",
       "       [8.45358372e-01],\n",
       "       [7.97041774e-01],\n",
       "       [8.88475776e-01],\n",
       "       [9.01753068e-01],\n",
       "       [6.14088595e-01],\n",
       "       [8.48771334e-01],\n",
       "       [7.81749368e-01],\n",
       "       [8.97281647e-01],\n",
       "       [8.54984999e-01],\n",
       "       [8.10578585e-01],\n",
       "       [7.85334945e-01],\n",
       "       [7.24054098e-01],\n",
       "       [4.75428373e-01],\n",
       "       [5.08893371e-01],\n",
       "       [3.60745907e-01],\n",
       "       [3.29151481e-01],\n",
       "       [5.24953008e-01],\n",
       "       [4.97139752e-01],\n",
       "       [5.99955678e-01],\n",
       "       [7.76007533e-01],\n",
       "       [9.50523615e-01],\n",
       "       [8.15329432e-01],\n",
       "       [5.91343820e-01],\n",
       "       [3.46854180e-01],\n",
       "       [8.50733519e-01],\n",
       "       [8.42245698e-01],\n",
       "       [6.65460229e-01],\n",
       "       [2.37727344e-01],\n",
       "       [7.42154837e-01],\n",
       "       [5.86810172e-01],\n",
       "       [6.89488053e-01],\n",
       "       [7.23035097e-01],\n",
       "       [9.72895026e-01],\n",
       "       [7.98033953e-01],\n",
       "       [7.32813239e-01],\n",
       "       [7.44462013e-01],\n",
       "       [9.17300224e-01],\n",
       "       [6.83445811e-01],\n",
       "       [6.01477504e-01],\n",
       "       [6.48800969e-01],\n",
       "       [7.60545254e-01],\n",
       "       [5.64108193e-01],\n",
       "       [6.07526779e-01],\n",
       "       [7.05986142e-01],\n",
       "       [6.45482600e-01],\n",
       "       [6.97142541e-01],\n",
       "       [6.29515290e-01],\n",
       "       [6.75200582e-01],\n",
       "       [5.47319233e-01],\n",
       "       [6.98781610e-01],\n",
       "       [6.81880653e-01],\n",
       "       [6.43354535e-01],\n",
       "       [6.67259812e-01],\n",
       "       [7.31024325e-01],\n",
       "       [7.91916609e-01],\n",
       "       [5.98008037e-01],\n",
       "       [5.80447197e-01],\n",
       "       [8.29641700e-01],\n",
       "       [7.09144890e-01],\n",
       "       [6.64611936e-01],\n",
       "       [7.20463991e-01],\n",
       "       [8.71675253e-01],\n",
       "       [6.17036879e-01],\n",
       "       [6.91566706e-01],\n",
       "       [7.12499917e-01],\n",
       "       [6.65858746e-01],\n",
       "       [6.35041118e-01],\n",
       "       [4.66999918e-01],\n",
       "       [9.11216140e-01],\n",
       "       [9.05251384e-01],\n",
       "       [5.31838417e-01],\n",
       "       [8.22628856e-01],\n",
       "       [9.48988080e-01],\n",
       "       [9.49901760e-01],\n",
       "       [5.95343471e-01],\n",
       "       [6.73612595e-01]], dtype=float32)"
      ]
     },
     "execution_count": 24,
     "metadata": {},
     "output_type": "execute_result"
    }
   ],
   "source": [
    "predictions = model.predict(test_images, steps=1, verbose=1)\n",
    "predictions"
   ]
  },
  {
   "cell_type": "code",
   "execution_count": 25,
   "metadata": {},
   "outputs": [
    {
     "data": {
      "text/plain": [
       "400"
      ]
     },
     "execution_count": 25,
     "metadata": {},
     "output_type": "execute_result"
    }
   ],
   "source": [
    "len(predictions)"
   ]
  },
  {
   "cell_type": "code",
   "execution_count": 26,
   "metadata": {},
   "outputs": [],
   "source": [
    "pred = model.predict(test_images, steps = 1)"
   ]
  },
  {
   "cell_type": "code",
   "execution_count": 27,
   "metadata": {},
   "outputs": [],
   "source": [
    "r_pred = []\n",
    "for i in range(len(pred)):\n",
    "    if pred[i] >= 0.5:\n",
    "        r_pred.append(1)\n",
    "    else:\n",
    "        r_pred.append(0)"
   ]
  },
  {
   "cell_type": "code",
   "execution_count": 28,
   "metadata": {},
   "outputs": [],
   "source": [
    "from sklearn.metrics import confusion_matrix\n",
    "import matplotlib.pyplot as plt\n",
    "import itertools\n",
    "def plot_confusion_matrix(cm, classes,\n",
    "                          normalize=False,\n",
    "                          title='Confusion matrix',\n",
    "                          cmap=plt.cm.Blues):\n",
    "    \"\"\"\n",
    "    This function prints and plots the confusion matrix.\n",
    "    Normalization can be applied by setting `normalize=True`.\n",
    "    \"\"\"\n",
    "    plt.imshow(cm, interpolation='nearest', cmap=cmap)\n",
    "    plt.title(title)\n",
    "    plt.colorbar()\n",
    "    tick_marks = np.arange(len(classes))\n",
    "    plt.xticks(tick_marks, classes, rotation=45)\n",
    "    plt.yticks(tick_marks, classes)\n",
    "\n",
    "    if normalize:\n",
    "        cm = cm.astype('float') / cm.sum(axis=1)[:, np.newaxis]\n",
    "        print(\"Normalized confusion matrix\")\n",
    "    else:\n",
    "        print('Confusion matrix, without normalization')\n",
    "    print(cm)\n",
    "    thresh = cm.max() / 2.\n",
    "    for i, j in itertools.product(range(cm.shape[0]), range(cm.shape[1])):\n",
    "        plt.text(j, i, cm[i, j],\n",
    "                 horizontalalignment=\"center\",\n",
    "                 color=\"white\" if cm[i, j] > thresh else \"black\")\n",
    "    plt.tight_layout()\n",
    "    plt.ylabel('True label')\n",
    "    plt.xlabel('Predicted label')"
   ]
  },
  {
   "cell_type": "code",
   "execution_count": 29,
   "metadata": {},
   "outputs": [],
   "source": [
    "cm = confusion_matrix(test_label, r_pred)"
   ]
  },
  {
   "cell_type": "code",
   "execution_count": 30,
   "metadata": {},
   "outputs": [
    {
     "name": "stdout",
     "output_type": "stream",
     "text": [
      "Confusion matrix, without normalization\n",
      "[[184  16]\n",
      " [ 11 189]]\n"
     ]
    },
    {
     "data": {
      "image/png": "[encoded data removed]",
      "text/plain": [
       "<Figure size 432x288 with 2 Axes>"
      ]
     },
     "metadata": {
      "needs_background": "light"
     },
     "output_type": "display_data"
    }
   ],
   "source": [
    "cm_plot_labels = ['Fire' , 'No Fire']\n",
    "plot_confusion_matrix(cm, cm_plot_labels, title='Confusion Matrix')"
   ]
  },
  {
   "cell_type": "code",
   "execution_count": 31,
   "metadata": {},
   "outputs": [],
   "source": [
    "data = {'Prediction' : r_pred, 'Actual' : test_label}"
   ]
  },
  {
   "cell_type": "code",
   "execution_count": 32,
   "metadata": {},
   "outputs": [
    {
     "data": {
      "text/html": [
       "<div>\n",
       "<style scoped>\n",
       "    .dataframe tbody tr th:only-of-type {\n",
       "        vertical-align: middle;\n",
       "    }\n",
       "\n",
       "    .dataframe tbody tr th {\n",
       "        vertical-align: top;\n",
       "    }\n",
       "\n",
       "    .dataframe thead th {\n",
       "        text-align: right;\n",
       "    }\n",
       "</style>\n",
       "<table border=\"1\" class=\"dataframe\">\n",
       "  <thead>\n",
       "    <tr style=\"text-align: right;\">\n",
       "      <th></th>\n",
       "      <th>Prediction</th>\n",
       "      <th>Actual</th>\n",
       "    </tr>\n",
       "  </thead>\n",
       "  <tbody>\n",
       "    <tr>\n",
       "      <th>0</th>\n",
       "      <td>0</td>\n",
       "      <td>0</td>\n",
       "    </tr>\n",
       "    <tr>\n",
       "      <th>1</th>\n",
       "      <td>0</td>\n",
       "      <td>0</td>\n",
       "    </tr>\n",
       "    <tr>\n",
       "      <th>2</th>\n",
       "      <td>0</td>\n",
       "      <td>0</td>\n",
       "    </tr>\n",
       "    <tr>\n",
       "      <th>3</th>\n",
       "      <td>0</td>\n",
       "      <td>0</td>\n",
       "    </tr>\n",
       "    <tr>\n",
       "      <th>4</th>\n",
       "      <td>0</td>\n",
       "      <td>0</td>\n",
       "    </tr>\n",
       "    <tr>\n",
       "      <th>...</th>\n",
       "      <td>...</td>\n",
       "      <td>...</td>\n",
       "    </tr>\n",
       "    <tr>\n",
       "      <th>395</th>\n",
       "      <td>1</td>\n",
       "      <td>1</td>\n",
       "    </tr>\n",
       "    <tr>\n",
       "      <th>396</th>\n",
       "      <td>1</td>\n",
       "      <td>1</td>\n",
       "    </tr>\n",
       "    <tr>\n",
       "      <th>397</th>\n",
       "      <td>1</td>\n",
       "      <td>1</td>\n",
       "    </tr>\n",
       "    <tr>\n",
       "      <th>398</th>\n",
       "      <td>1</td>\n",
       "      <td>1</td>\n",
       "    </tr>\n",
       "    <tr>\n",
       "      <th>399</th>\n",
       "      <td>1</td>\n",
       "      <td>1</td>\n",
       "    </tr>\n",
       "  </tbody>\n",
       "</table>\n",
       "<p>400 rows × 2 columns</p>\n",
       "</div>"
      ],
      "text/plain": [
       "     Prediction  Actual\n",
       "0             0       0\n",
       "1             0       0\n",
       "2             0       0\n",
       "3             0       0\n",
       "4             0       0\n",
       "..          ...     ...\n",
       "395           1       1\n",
       "396           1       1\n",
       "397           1       1\n",
       "398           1       1\n",
       "399           1       1\n",
       "\n",
       "[400 rows x 2 columns]"
      ]
     },
     "execution_count": 32,
     "metadata": {},
     "output_type": "execute_result"
    }
   ],
   "source": [
    "df = pd.DataFrame(data)\n",
    "df"
   ]
  },
  {
   "cell_type": "code",
   "execution_count": 33,
   "metadata": {},
   "outputs": [
    {
     "data": {
      "text/plain": [
       "<matplotlib.axes._subplots.AxesSubplot at 0x12cb5183b88>"
      ]
     },
     "execution_count": 33,
     "metadata": {},
     "output_type": "execute_result"
    },
    {
     "data": {
      "image/png": "[encoded data removed]",
      "text/plain": [
       "<Figure size 432x288 with 2 Axes>"
      ]
     },
     "metadata": {
      "needs_background": "light"
     },
     "output_type": "display_data"
    }
   ],
   "source": [
    "import seaborn \n",
    "cm = pd.crosstab(df.Prediction, df.Actual)\n",
    "seaborn.heatmap(cm, annot = True, fmt = '.0f')"
   ]
  },
  {
   "cell_type": "code",
   "execution_count": 34,
   "metadata": {},
   "outputs": [],
   "source": [
    "model.save('FNF3_100x100_7k_data.h5')"
   ]
  },
  {
   "cell_type": "code",
   "execution_count": 31,
   "metadata": {},
   "outputs": [],
   "source": [
    "import PIL\n",
    "def SinglePred(file):\n",
    "    im = PIL.Image.open(file)\n",
    "    im = im.resize((100,100))\n",
    "    array = np.asarray(im)\n",
    "    array = np.reshape(array, (-1, 1,100,100))\n",
    "    plt.imshow(im)\n",
    "    x = model.predict(array)\n",
    "    if (x >= 0.5).all():\n",
    "        print('Not Fire')\n",
    "    else:\n",
    "        print('Fire')"
   ]
  },
  {
   "cell_type": "code",
   "execution_count": 32,
   "metadata": {},
   "outputs": [
    {
     "name": "stdout",
     "output_type": "stream",
     "text": [
      "Fire\n"
     ]
    },
    {
     "data": {
      "image/png": "[encoded data removed]",
      "text/plain": [
       "<Figure size 432x288 with 1 Axes>"
      ]
     },
     "metadata": {
      "needs_background": "light"
     },
     "output_type": "display_data"
    }
   ],
   "source": [
    "SinglePred(r\"C:\\Users\\Ravindra Singh\\Desktop\\FNF\\test\\fire\\istockphoto-504240925-612x612.jpg\")"
   ]
  },
  {
   "cell_type": "code",
   "execution_count": 33,
   "metadata": {},
   "outputs": [
    {
     "name": "stdout",
     "output_type": "stream",
     "text": [
      "Not Fire\n"
     ]
    },
    {
     "data": {
      "image/png": "[encoded data removed]",
      "text/plain": [
       "<Figure size 432x288 with 1 Axes>"
      ]
     },
     "metadata": {
      "needs_background": "light"
     },
     "output_type": "display_data"
    }
   ],
   "source": [
    "SinglePred(r\"C:\\Users\\Ravindra Singh\\Desktop\\FNF\\test\\no_fire\\1971d6e226.jpg\")"
   ]
  },
  {
   "cell_type": "code",
   "execution_count": 34,
   "metadata": {},
   "outputs": [
    {
     "name": "stdout",
     "output_type": "stream",
     "text": [
      "Not Fire\n"
     ]
    },
    {
     "data": {
      "image/png": "[encoded data removed]",
      "text/plain": [
       "<Figure size 432x288 with 1 Axes>"
      ]
     },
     "metadata": {
      "needs_background": "light"
     },
     "output_type": "display_data"
    }
   ],
   "source": [
    "SinglePred(r\"C:\\Users\\Ravindra Singh\\Desktop\\FNF\\train\\no_fire\\download (24).jpeg\")"
   ]
  },
  {
   "cell_type": "code",
   "execution_count": 35,
   "metadata": {},
   "outputs": [
    {
     "name": "stdout",
     "output_type": "stream",
     "text": [
      "Fire\n"
     ]
    },
    {
     "data": {
      "image/png": "[encoded data removed]",
      "text/plain": [
       "<Figure size 432x288 with 1 Axes>"
      ]
     },
     "metadata": {
      "needs_background": "light"
     },
     "output_type": "display_data"
    }
   ],
   "source": [
    "SinglePred(r\"C:\\Users\\Ravindra Singh\\Desktop\\FNF\\test\\fire\\istockphoto-504240925-612x612.jpg\")"
   ]
  },
  {
   "cell_type": "code",
   "execution_count": null,
   "metadata": {},
   "outputs": [],
   "source": []
  }
 ],
 "metadata": {
  "kernelspec": {
   "display_name": "Python 3",
   "language": "python",
   "name": "python3"
  },
  "language_info": {
   "codemirror_mode": {
    "name": "ipython",
    "version": 3
   },
   "file_extension": ".py",
   "mimetype": "text/x-python",
   "name": "python",
   "nbconvert_exporter": "python",
   "pygments_lexer": "ipython3",
   "version": "3.7.6"
  }
 },
 "nbformat": 4,
 "nbformat_minor": 4
}
